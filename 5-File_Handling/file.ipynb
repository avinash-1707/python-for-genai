{
 "cells": [
  {
   "cell_type": "code",
   "execution_count": 4,
   "id": "6f7e897e",
   "metadata": {},
   "outputs": [
    {
     "name": "stdout",
     "output_type": "stream",
     "text": [
      "Line 1: The quick brown fox jumps over the lazy dog.\n",
      "Line 2: Python makes file handling easy and efficient.\n",
      "Line 3: Artificial intelligence is transforming technology.\n",
      "Line 4: Coffee is best enjoyed on a rainy morning.\n",
      "Line 5: Data science unlocks insights from information.\n",
      "Line 6: The stars twinkled brightly in the night sky.\n",
      "Line 7: Learning new skills keeps the mind sharp.\n",
      "Line 8: Mountains stand tall against the blue horizon.\n",
      "Line 9: Creativity thrives in an open environment.\n",
      "Line 10: Every journey begins with a single step.\n"
     ]
    }
   ],
   "source": [
    "with open(\"example.txt\",\"r\") as file:\n",
    "    for line in file:\n",
    "        print(line.strip())"
   ]
  },
  {
   "cell_type": "code",
   "execution_count": null,
   "id": "eb4af92a",
   "metadata": {},
   "outputs": [],
   "source": [
    "with open('example.txt','a') as file:\n",
    "    file.write(\"\\nLine 11: Kaalchoddu\")"
   ]
  },
  {
   "cell_type": "code",
   "execution_count": null,
   "id": "7135ccd7",
   "metadata": {},
   "outputs": [
    {
     "name": "stdout",
     "output_type": "stream",
     "text": [
      "Kya dekh rha h be\n",
      "\n",
      "BGMI me aaja chal ab\n"
     ]
    }
   ],
   "source": [
    "### Writing and Reading a file together\n",
    "\n",
    "with open('random.txt',\"w+\") as file:\n",
    "    file.write(\"Kya dekh rha h be\\n\")\n",
    "    file.write(\"BGMI me aaja chal ab\")\n",
    "\n",
    "    file.seek(0) #Moves the file cursor to initial position\n",
    "\n",
    "    for line in file:\n",
    "        print(line)"
   ]
  },
  {
   "cell_type": "code",
   "execution_count": 7,
   "id": "3a50a024",
   "metadata": {},
   "outputs": [
    {
     "name": "stdout",
     "output_type": "stream",
     "text": [
      "Characters:554,words:93,lines:11\n"
     ]
    }
   ],
   "source": [
    "## Read a text file and count the number of lines,words and characters\n",
    "\n",
    "def count_text_file(file_path):\n",
    "    with open(file_path,'r') as file:\n",
    "        lines= file.readlines()\n",
    "        line_count = len(lines)\n",
    "        word_count = sum(len(line.split()) for line in lines)\n",
    "        char_count = sum(len(line) for line in lines)\n",
    "    return char_count,word_count,line_count\n",
    "\n",
    "file_path = \"example.txt\"\n",
    "chars,words,lines=count_text_file(file_path)\n",
    "print(f\"Characters:{chars},words:{words},lines:{lines}\")"
   ]
  },
  {
   "cell_type": "code",
   "execution_count": null,
   "id": "bcfafe42",
   "metadata": {},
   "outputs": [],
   "source": []
  }
 ],
 "metadata": {
  "kernelspec": {
   "display_name": "Python 3",
   "language": "python",
   "name": "python3"
  },
  "language_info": {
   "codemirror_mode": {
    "name": "ipython",
    "version": 3
   },
   "file_extension": ".py",
   "mimetype": "text/x-python",
   "name": "python",
   "nbconvert_exporter": "python",
   "pygments_lexer": "ipython3",
   "version": "3.12.0"
  }
 },
 "nbformat": 4,
 "nbformat_minor": 5
}
