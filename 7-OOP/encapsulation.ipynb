{
 "cells": [
  {
   "cell_type": "markdown",
   "id": "1b31236d",
   "metadata": {},
   "source": [
    "Public, Protected and Private Access modifiers"
   ]
  },
  {
   "cell_type": "code",
   "execution_count": 5,
   "id": "ad47cf76",
   "metadata": {},
   "outputs": [],
   "source": [
    "class Person:\n",
    "    def __init__(self,name,age,gender):\n",
    "        self.name= name # public variables\n",
    "        self.age = age  # public variables\n",
    "        self.gender= gender #public variable\n",
    "\n",
    "person = Person(\"Avinash\",20,\"Male\")"
   ]
  },
  {
   "cell_type": "code",
   "execution_count": 6,
   "id": "47ea226f",
   "metadata": {},
   "outputs": [
    {
     "data": {
      "text/plain": [
       "['__class__',\n",
       " '__delattr__',\n",
       " '__dict__',\n",
       " '__dir__',\n",
       " '__doc__',\n",
       " '__eq__',\n",
       " '__format__',\n",
       " '__ge__',\n",
       " '__getattribute__',\n",
       " '__getstate__',\n",
       " '__gt__',\n",
       " '__hash__',\n",
       " '__init__',\n",
       " '__init_subclass__',\n",
       " '__le__',\n",
       " '__lt__',\n",
       " '__module__',\n",
       " '__ne__',\n",
       " '__new__',\n",
       " '__reduce__',\n",
       " '__reduce_ex__',\n",
       " '__repr__',\n",
       " '__setattr__',\n",
       " '__sizeof__',\n",
       " '__str__',\n",
       " '__subclasshook__',\n",
       " '__weakref__',\n",
       " 'age',\n",
       " 'gender',\n",
       " 'name']"
      ]
     },
     "execution_count": 6,
     "metadata": {},
     "output_type": "execute_result"
    }
   ],
   "source": [
    "dir(person)"
   ]
  },
  {
   "cell_type": "code",
   "execution_count": 7,
   "id": "1db2f767",
   "metadata": {},
   "outputs": [],
   "source": [
    "class Girl:\n",
    "    def __init__(self,name,age,ethinicity):\n",
    "        self.name = name # public variables\n",
    "        self.__age= age    # private variables\n",
    "        self._ethinicity = ethinicity # protected variable"
   ]
  },
  {
   "cell_type": "markdown",
   "id": "5dfcb4a0",
   "metadata": {},
   "source": [
    "Encapsulation is also implemented by Getter and Setter methods"
   ]
  },
  {
   "cell_type": "markdown",
   "id": "466656f9",
   "metadata": {},
   "source": []
  }
 ],
 "metadata": {
  "kernelspec": {
   "display_name": "Python 3",
   "language": "python",
   "name": "python3"
  },
  "language_info": {
   "codemirror_mode": {
    "name": "ipython",
    "version": 3
   },
   "file_extension": ".py",
   "mimetype": "text/x-python",
   "name": "python",
   "nbconvert_exporter": "python",
   "pygments_lexer": "ipython3",
   "version": "3.12.0"
  }
 },
 "nbformat": 4,
 "nbformat_minor": 5
}
