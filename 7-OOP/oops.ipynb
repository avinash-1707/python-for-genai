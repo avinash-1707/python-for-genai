{
 "cells": [
  {
   "cell_type": "markdown",
   "id": "cc78937b",
   "metadata": {},
   "source": [
    "### Object Oriented Programming in Python"
   ]
  },
  {
   "cell_type": "code",
   "execution_count": 1,
   "id": "f7966465",
   "metadata": {},
   "outputs": [
    {
     "name": "stdout",
     "output_type": "stream",
     "text": [
      "<__main__.Dog object at 0x00000273AFBAAEA0>\n"
     ]
    }
   ],
   "source": [
    "# Instance variable and methods\n",
    "\n",
    "class Dog:\n",
    "    def __init__(self,name,age):\n",
    "        self.name= name\n",
    "        self.age = age\n",
    "\n",
    "dog1 = Dog(\"Tommy\",12)\n",
    "print(dog1)"
   ]
  },
  {
   "cell_type": "code",
   "execution_count": 2,
   "id": "f080b464",
   "metadata": {},
   "outputs": [
    {
     "name": "stdout",
     "output_type": "stream",
     "text": [
      "Tommy\n",
      "12\n"
     ]
    }
   ],
   "source": [
    "print(dog1.name)\n",
    "print(dog1.age)"
   ]
  },
  {
   "cell_type": "code",
   "execution_count": 3,
   "id": "5aa17bec",
   "metadata": {},
   "outputs": [],
   "source": [
    "# Definiing a class with instance methods\n",
    "\n",
    "class Car:\n",
    "    def __init__(self,model,year):\n",
    "        self.model = model\n",
    "        self.year = year\n",
    "\n",
    "    def driving(self):\n",
    "        print(f\"{self.model} is driving since {self.year}\")"
   ]
  },
  {
   "cell_type": "code",
   "execution_count": 4,
   "id": "ad288fd6",
   "metadata": {},
   "outputs": [],
   "source": [
    "car1 = Car(\"indica\",2012)"
   ]
  },
  {
   "cell_type": "code",
   "execution_count": 5,
   "id": "d4063477",
   "metadata": {},
   "outputs": [
    {
     "name": "stdout",
     "output_type": "stream",
     "text": [
      "indica is driving since 2012\n"
     ]
    }
   ],
   "source": [
    "car1.driving()"
   ]
  },
  {
   "cell_type": "code",
   "execution_count": 13,
   "id": "a2a26038",
   "metadata": {},
   "outputs": [],
   "source": [
    "#Modelling a bank account\n",
    "\n",
    "class BankAccount:\n",
    "    def __init__(self,username,balance=0):\n",
    "        self.balance = balance\n",
    "        self.username = username\n",
    "    \n",
    "    def withdraw(self,amount):\n",
    "        if self.balance>=amount:\n",
    "            self.balance -= amount\n",
    "            print(f\"{self.username} withdrew {amount} rupees from the bank\")\n",
    "        else:\n",
    "            print(\"Insufficient funds!\")\n",
    "    \n",
    "    def show_balance(self):\n",
    "        print(f\"Rs.{self.balance}\")\n",
    "\n",
    "    def deposit(self,amount):\n",
    "        self.balance += amount\n",
    "        print(f\"{self.username} deposited {amount} rupees from the bank\")\n"
   ]
  },
  {
   "cell_type": "code",
   "execution_count": 7,
   "id": "c5be30a6",
   "metadata": {},
   "outputs": [],
   "source": [
    "user1 = BankAccount(1500,\"Avinash\")"
   ]
  },
  {
   "cell_type": "code",
   "execution_count": 8,
   "id": "9b196add",
   "metadata": {},
   "outputs": [
    {
     "name": "stdout",
     "output_type": "stream",
     "text": [
      "Rs.1500\n"
     ]
    }
   ],
   "source": [
    "user1.show_balance()"
   ]
  },
  {
   "cell_type": "code",
   "execution_count": 9,
   "id": "f65febf5",
   "metadata": {},
   "outputs": [
    {
     "name": "stdout",
     "output_type": "stream",
     "text": [
      "Avinash withdrew 200rupees from the bank\n"
     ]
    }
   ],
   "source": [
    "user1.withdraw(200)"
   ]
  },
  {
   "cell_type": "code",
   "execution_count": 10,
   "id": "18114c1b",
   "metadata": {},
   "outputs": [
    {
     "name": "stdout",
     "output_type": "stream",
     "text": [
      "Rs.1300\n"
     ]
    }
   ],
   "source": [
    "user1.show_balance()"
   ]
  },
  {
   "cell_type": "code",
   "execution_count": 14,
   "id": "b1bf58f5",
   "metadata": {},
   "outputs": [],
   "source": [
    "user2 = BankAccount(\"vivek\",2500)"
   ]
  },
  {
   "cell_type": "code",
   "execution_count": 15,
   "id": "7aca1924",
   "metadata": {},
   "outputs": [
    {
     "name": "stdout",
     "output_type": "stream",
     "text": [
      "vivek deposited 2750 rupees from the bank\n"
     ]
    }
   ],
   "source": [
    "user2.deposit(2750)"
   ]
  },
  {
   "cell_type": "code",
   "execution_count": 16,
   "id": "1b43f39a",
   "metadata": {},
   "outputs": [
    {
     "name": "stdout",
     "output_type": "stream",
     "text": [
      "Rs.5250\n"
     ]
    }
   ],
   "source": [
    "user2.show_balance()"
   ]
  },
  {
   "cell_type": "code",
   "execution_count": 18,
   "id": "9a2b8441",
   "metadata": {},
   "outputs": [
    {
     "name": "stdout",
     "output_type": "stream",
     "text": [
      "vivek withdrew 5000 rupees from the bank\n"
     ]
    }
   ],
   "source": [
    "user2.withdraw(5000)"
   ]
  },
  {
   "cell_type": "code",
   "execution_count": 19,
   "id": "ae7b47a8",
   "metadata": {},
   "outputs": [
    {
     "name": "stdout",
     "output_type": "stream",
     "text": [
      "Rs.250\n"
     ]
    }
   ],
   "source": [
    "user2.show_balance()"
   ]
  },
  {
   "cell_type": "code",
   "execution_count": null,
   "id": "2ed22fd4",
   "metadata": {},
   "outputs": [],
   "source": []
  }
 ],
 "metadata": {
  "kernelspec": {
   "display_name": "Python 3",
   "language": "python",
   "name": "python3"
  },
  "language_info": {
   "codemirror_mode": {
    "name": "ipython",
    "version": 3
   },
   "file_extension": ".py",
   "mimetype": "text/x-python",
   "name": "python",
   "nbconvert_exporter": "python",
   "pygments_lexer": "ipython3",
   "version": "3.12.0"
  }
 },
 "nbformat": 4,
 "nbformat_minor": 5
}
