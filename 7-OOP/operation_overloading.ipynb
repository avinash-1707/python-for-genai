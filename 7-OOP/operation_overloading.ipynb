{
 "cells": [
  {
   "cell_type": "markdown",
   "id": "f27dfb74",
   "metadata": {},
   "source": [
    "### Operator overloading"
   ]
  },
  {
   "cell_type": "code",
   "execution_count": null,
   "id": "6f9e291b",
   "metadata": {},
   "outputs": [],
   "source": [
    "### MAthematical operation for vectors\n",
    "class Vector:\n",
    "    def __init__(self,x,y):\n",
    "        self.x=x\n",
    "        self.y=y\n",
    "\n",
    "    def __add__(self,other):\n",
    "        return Vector(self.x+other.x,self.y+other.y)\n",
    "    \n",
    "    def __sub__(self, other):\n",
    "        return Vector(self.x - other.x, self.y - other.y)\n",
    "\n",
    "    def __mul__(self, other):\n",
    "        return Vector(self.x * other, self.y * other)\n",
    "    \n",
    "    def __eq__(self, other):\n",
    "        return self.x == other.x and self.y == other.y\n",
    "    \n",
    "    def __repr__(self):\n",
    "        return f\"Vector({self.x}, {self.y})\"\n",
    "    \n",
    "## create objectss of the Vector Class\n",
    "v1=Vector(2,3)\n",
    "v2=Vector(4,5)\n",
    "\n",
    "print(v1+v2)\n",
    "print(v1-v2)\n",
    "print(v1*3)"
   ]
  },
  {
   "cell_type": "code",
   "execution_count": 4,
   "id": "a21a70fa",
   "metadata": {},
   "outputs": [],
   "source": [
    "# Operation overloading for complex numbers\n",
    "\n",
    "class Complex:\n",
    "    def __init__(self,real,imag):\n",
    "        self.real = real\n",
    "        self.imag = imag\n",
    "    \n",
    "    def __add__(self,other):\n",
    "        return Complex(self.real+other.real,self.imag+other.imag)\n",
    "    \n",
    "    def __sub__(self,other):\n",
    "        return Complex(self.real-other.real,self.imag-other.imag)\n",
    "    \n",
    "    def print_complex(self):\n",
    "        print(f\"{self.real}+{self.imag}i\")"
   ]
  },
  {
   "cell_type": "code",
   "execution_count": 5,
   "id": "05bdfe24",
   "metadata": {},
   "outputs": [],
   "source": [
    "c1 = Complex(3,4)\n",
    "c2 = Complex(4,5)\n",
    "c3 = c1 + c2"
   ]
  },
  {
   "cell_type": "code",
   "execution_count": 6,
   "id": "1b24f126",
   "metadata": {},
   "outputs": [
    {
     "name": "stdout",
     "output_type": "stream",
     "text": [
      "7+9i\n"
     ]
    }
   ],
   "source": [
    "c3.print_complex()"
   ]
  },
  {
   "cell_type": "code",
   "execution_count": 7,
   "id": "2e937f11",
   "metadata": {},
   "outputs": [],
   "source": [
    "c4 = c3 - c1"
   ]
  },
  {
   "cell_type": "code",
   "execution_count": 8,
   "id": "ecf9a9f1",
   "metadata": {},
   "outputs": [
    {
     "name": "stdout",
     "output_type": "stream",
     "text": [
      "4+5i\n"
     ]
    }
   ],
   "source": [
    "c4.print_complex()"
   ]
  },
  {
   "cell_type": "code",
   "execution_count": null,
   "id": "f014db19",
   "metadata": {},
   "outputs": [],
   "source": []
  }
 ],
 "metadata": {
  "kernelspec": {
   "display_name": "Python 3",
   "language": "python",
   "name": "python3"
  },
  "language_info": {
   "codemirror_mode": {
    "name": "ipython",
    "version": 3
   },
   "file_extension": ".py",
   "mimetype": "text/x-python",
   "name": "python",
   "nbconvert_exporter": "python",
   "pygments_lexer": "ipython3",
   "version": "3.12.0"
  }
 },
 "nbformat": 4,
 "nbformat_minor": 5
}
