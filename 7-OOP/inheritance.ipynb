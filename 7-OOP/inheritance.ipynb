{
 "cells": [
  {
   "cell_type": "markdown",
   "id": "5b0d4721",
   "metadata": {},
   "source": [
    "# Inheritance in Python"
   ]
  },
  {
   "cell_type": "markdown",
   "id": "11064ae1",
   "metadata": {},
   "source": [
    "### Single Inheritance"
   ]
  },
  {
   "cell_type": "code",
   "execution_count": 1,
   "id": "c9cc7147",
   "metadata": {},
   "outputs": [],
   "source": [
    "# Parent Class\n",
    "class Car:\n",
    "    def __init__(self,windows,doors,enginetype):\n",
    "        self.windows = windows\n",
    "        self.doors = doors\n",
    "        self.enginetype = enginetype\n",
    "    \n",
    "    def drive(self):\n",
    "        print(f\"The person will drive {self.enginetype} car\")"
   ]
  },
  {
   "cell_type": "code",
   "execution_count": 2,
   "id": "11a9f494",
   "metadata": {},
   "outputs": [],
   "source": [
    "car1 = Car(4,4,\"petrol\")"
   ]
  },
  {
   "cell_type": "code",
   "execution_count": 3,
   "id": "34de6405",
   "metadata": {},
   "outputs": [
    {
     "name": "stdout",
     "output_type": "stream",
     "text": [
      "The person will drive petrol car\n"
     ]
    }
   ],
   "source": [
    "car1.drive()"
   ]
  },
  {
   "cell_type": "code",
   "execution_count": null,
   "id": "d69ec841",
   "metadata": {},
   "outputs": [],
   "source": [
    "class Tesla(Car):\n",
    "    def __init__(self,windows,doors,enginetype,is_selfdriving):\n",
    "        super().__init__(windows,doors,enginetype)\n",
    "        self.is_selfdriving= is_selfdriving\n",
    "\n",
    "    def selfdriving(self):\n",
    "        print(f\"Tesla supports self-driving : {self.is_selfdriving}\")"
   ]
  },
  {
   "cell_type": "code",
   "execution_count": 5,
   "id": "30a767bf",
   "metadata": {},
   "outputs": [],
   "source": [
    "tesla1 = Tesla(4,2,\"electric\",True)"
   ]
  },
  {
   "cell_type": "code",
   "execution_count": 6,
   "id": "0db2462a",
   "metadata": {},
   "outputs": [
    {
     "name": "stdout",
     "output_type": "stream",
     "text": [
      "Tesla supports self-driving : True\n"
     ]
    }
   ],
   "source": [
    "tesla1.selfdriving()"
   ]
  },
  {
   "cell_type": "markdown",
   "id": "bca903fe",
   "metadata": {},
   "source": [
    "### Multiple Inheritance"
   ]
  },
  {
   "cell_type": "code",
   "execution_count": 7,
   "id": "59b09ae1",
   "metadata": {},
   "outputs": [],
   "source": [
    "class Animal:\n",
    "    def __init__(self,name):\n",
    "        self.name = name\n",
    "\n",
    "    def speak(self):\n",
    "        print(\"Derived class must inherit this method.\")"
   ]
  },
  {
   "cell_type": "code",
   "execution_count": 8,
   "id": "ed3fe34d",
   "metadata": {},
   "outputs": [],
   "source": [
    "class Pet:\n",
    "    def __init__(self,owner):\n",
    "        self.owner = owner\n"
   ]
  },
  {
   "cell_type": "code",
   "execution_count": 9,
   "id": "bbe6c0cb",
   "metadata": {},
   "outputs": [],
   "source": [
    "class Dog(Animal,Pet):\n",
    "    def __init__(self, name, owner):\n",
    "        Animal.__init__(self,name)\n",
    "        Pet.__init__(self,owner)\n",
    "\n",
    "    def speak(self):\n",
    "        print(f\"{self.name} says WOOF!\")"
   ]
  },
  {
   "cell_type": "code",
   "execution_count": 10,
   "id": "1154cf25",
   "metadata": {},
   "outputs": [],
   "source": [
    "doggy = Dog(\"Rocky\",\"Avinash\")"
   ]
  },
  {
   "cell_type": "code",
   "execution_count": 11,
   "id": "746016ee",
   "metadata": {},
   "outputs": [
    {
     "name": "stdout",
     "output_type": "stream",
     "text": [
      "Rocky says WOOF!\n"
     ]
    }
   ],
   "source": [
    "doggy.speak()"
   ]
  },
  {
   "cell_type": "code",
   "execution_count": null,
   "id": "3448d51e",
   "metadata": {},
   "outputs": [],
   "source": []
  }
 ],
 "metadata": {
  "kernelspec": {
   "display_name": "Python 3",
   "language": "python",
   "name": "python3"
  },
  "language_info": {
   "codemirror_mode": {
    "name": "ipython",
    "version": 3
   },
   "file_extension": ".py",
   "mimetype": "text/x-python",
   "name": "python",
   "nbconvert_exporter": "python",
   "pygments_lexer": "ipython3",
   "version": "3.12.0"
  }
 },
 "nbformat": 4,
 "nbformat_minor": 5
}
