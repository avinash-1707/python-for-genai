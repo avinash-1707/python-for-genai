{
 "cells": [
  {
   "cell_type": "markdown",
   "id": "4562e9a2",
   "metadata": {},
   "source": [
    "## Method overriding"
   ]
  },
  {
   "cell_type": "code",
   "execution_count": null,
   "id": "e5a2ce6c",
   "metadata": {},
   "outputs": [],
   "source": [
    "# Base class\n",
    "class Animal:\n",
    "    def speak(self):\n",
    "        print(\"Animal is speaking...\")\n",
    "\n",
    "# Derived class        \n",
    "class Dog(Animal):\n",
    "    def speak(self):\n",
    "        print(\"Woof!\")"
   ]
  },
  {
   "cell_type": "code",
   "execution_count": null,
   "id": "5c1a754c",
   "metadata": {},
   "outputs": [
    {
     "name": "stdout",
     "output_type": "stream",
     "text": [
      "Animal is speaking...\n",
      "Woof!\n"
     ]
    }
   ],
   "source": [
    "# speak function showing polymorphism throught method overriding!\n",
    "animal1 =  Animal()\n",
    "animal1.speak()\n",
    "\n",
    "dogu = Dog()\n",
    "dogu.speak()"
   ]
  },
  {
   "cell_type": "markdown",
   "id": "bc4765c9",
   "metadata": {},
   "source": [
    "##### Method overriding can also be implemented by using different variables in the polymorphic function."
   ]
  },
  {
   "cell_type": "code",
   "execution_count": null,
   "id": "1a138a81",
   "metadata": {},
   "outputs": [],
   "source": [
    "# def area(self,height,width):\n",
    "#def area(self,radius):"
   ]
  },
  {
   "cell_type": "markdown",
   "id": "a261f9e7",
   "metadata": {},
   "source": [
    "### Polymorphism with Abstract Base Class"
   ]
  },
  {
   "cell_type": "code",
   "execution_count": 4,
   "id": "0441fc5e",
   "metadata": {},
   "outputs": [],
   "source": [
    "from abc import ABC,abstractmethod\n",
    "\n",
    "# Base class\n",
    "class Vehicle:\n",
    "    @abstractmethod\n",
    "    def start_engine(self):\n",
    "        pass\n",
    "\n",
    "# Derived class\n",
    "class Car(Vehicle):\n",
    "    def start_engine(self):\n",
    "        return \"Car engine has started!\"\n",
    "    \n",
    "class Bike(Vehicle):\n",
    "    def start_engine(self):\n",
    "        return \"Bike engine has started!\""
   ]
  },
  {
   "cell_type": "code",
   "execution_count": 5,
   "id": "63757e08",
   "metadata": {},
   "outputs": [
    {
     "name": "stdout",
     "output_type": "stream",
     "text": [
      "Bike engine has started!\n"
     ]
    }
   ],
   "source": [
    "bike1= Bike()\n",
    "print(bike1.start_engine())"
   ]
  },
  {
   "cell_type": "code",
   "execution_count": null,
   "id": "8138250f",
   "metadata": {},
   "outputs": [],
   "source": []
  }
 ],
 "metadata": {
  "kernelspec": {
   "display_name": "Python 3",
   "language": "python",
   "name": "python3"
  },
  "language_info": {
   "codemirror_mode": {
    "name": "ipython",
    "version": 3
   },
   "file_extension": ".py",
   "mimetype": "text/x-python",
   "name": "python",
   "nbconvert_exporter": "python",
   "pygments_lexer": "ipython3",
   "version": "3.12.0"
  }
 },
 "nbformat": 4,
 "nbformat_minor": 5
}
