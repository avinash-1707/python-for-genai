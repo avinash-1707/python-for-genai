{
 "cells": [
  {
   "cell_type": "code",
   "execution_count": null,
   "id": "0249b9fe",
   "metadata": {},
   "outputs": [],
   "source": [
    "try:\n",
    "    with open('example.txt','r') as file:\n",
    "        content = file.read()\n",
    "        print(content)\n",
    "except:\n",
    "    print(\"The file is having some error\")\n",
    "finally:\n",
    "    print(\"Program executed\")"
   ]
  }
 ],
 "metadata": {
  "kernelspec": {
   "display_name": "Python 3",
   "language": "python",
   "name": "python3"
  },
  "language_info": {
   "name": "python",
   "version": "3.12.0"
  }
 },
 "nbformat": 4,
 "nbformat_minor": 5
}
