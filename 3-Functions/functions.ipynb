{
 "cells": [
  {
   "cell_type": "code",
   "execution_count": 3,
   "id": "622f86a7",
   "metadata": {},
   "outputs": [],
   "source": [
    "def greet(name=\"Avinash\"):\n",
    "    print(f\"Hello {name}\")"
   ]
  },
  {
   "cell_type": "code",
   "execution_count": 4,
   "id": "f0fda931",
   "metadata": {},
   "outputs": [
    {
     "name": "stdout",
     "output_type": "stream",
     "text": [
      "Hello Avinash\n"
     ]
    }
   ],
   "source": [
    "greet()"
   ]
  },
  {
   "cell_type": "code",
   "execution_count": 5,
   "id": "dfba4847",
   "metadata": {},
   "outputs": [
    {
     "name": "stdout",
     "output_type": "stream",
     "text": [
      "Hello Abhimanyu\n"
     ]
    }
   ],
   "source": [
    "greet(\"Abhimanyu\")"
   ]
  },
  {
   "cell_type": "code",
   "execution_count": 8,
   "id": "1d21dcc7",
   "metadata": {},
   "outputs": [],
   "source": [
    "def list_items(*args,**kwargs):\n",
    "    for item in args:\n",
    "        print(item)\n",
    "    for key,value in kwargs.items():\n",
    "        print(f\"{key}:{value}\")"
   ]
  },
  {
   "cell_type": "code",
   "execution_count": 9,
   "id": "f2cf7500",
   "metadata": {},
   "outputs": [
    {
     "name": "stdout",
     "output_type": "stream",
     "text": [
      "aaloo\n",
      "parantha\n",
      "name:Avinash\n",
      "hunger:20\n"
     ]
    }
   ],
   "source": [
    "list_items(\"aaloo\",\"parantha\",name=\"Avinash\",hunger=\"20\")"
   ]
  },
  {
   "cell_type": "markdown",
   "id": "a22c9d04",
   "metadata": {},
   "source": [
    "### Temperature Converter"
   ]
  },
  {
   "cell_type": "code",
   "execution_count": null,
   "id": "7dd815f9",
   "metadata": {},
   "outputs": [],
   "source": [
    "def temperature_converter(temp,unit):\n",
    "    if unit==\"F\":\n",
    "        return (temp-32)*5/9\n",
    "    elif unit == \"C\":\n",
    "        return (temp * 9/5)+32\n",
    "    else:\n",
    "        print(\"Enter a valid unit!\")\n",
    "        return"
   ]
  },
  {
   "cell_type": "code",
   "execution_count": 11,
   "id": "fca4d590",
   "metadata": {},
   "outputs": [
    {
     "data": {
      "text/plain": [
       "-40.0"
      ]
     },
     "execution_count": 11,
     "metadata": {},
     "output_type": "execute_result"
    }
   ],
   "source": [
    "temperature_converter(-40)"
   ]
  },
  {
   "cell_type": "code",
   "execution_count": 14,
   "id": "a94e109b",
   "metadata": {},
   "outputs": [
    {
     "data": {
      "text/plain": [
       "98.6"
      ]
     },
     "execution_count": 14,
     "metadata": {},
     "output_type": "execute_result"
    }
   ],
   "source": [
    "temperature_converter(37)"
   ]
  },
  {
   "cell_type": "markdown",
   "id": "d6aad707",
   "metadata": {},
   "source": [
    "### Factorial using recursion"
   ]
  },
  {
   "cell_type": "code",
   "execution_count": 15,
   "id": "c586b196",
   "metadata": {},
   "outputs": [],
   "source": [
    "def factorial(num):\n",
    "    if num == 0:\n",
    "        return 1\n",
    "    else:\n",
    "        return num*factorial(num-1)"
   ]
  },
  {
   "cell_type": "code",
   "execution_count": 16,
   "id": "28cad26c",
   "metadata": {},
   "outputs": [
    {
     "data": {
      "text/plain": [
       "120"
      ]
     },
     "execution_count": 16,
     "metadata": {},
     "output_type": "execute_result"
    }
   ],
   "source": [
    "factorial(5)"
   ]
  },
  {
   "cell_type": "markdown",
   "id": "a3aeb1bc",
   "metadata": {},
   "source": [
    "### Lambda Functions"
   ]
  },
  {
   "cell_type": "code",
   "execution_count": null,
   "id": "b54f051b",
   "metadata": {},
   "outputs": [],
   "source": [
    "add_numbers = lambda *args: sum(args)"
   ]
  },
  {
   "cell_type": "markdown",
   "id": "9aa153d8",
   "metadata": {},
   "source": [
    "### Map Function"
   ]
  },
  {
   "cell_type": "code",
   "execution_count": 17,
   "id": "f6a22992",
   "metadata": {},
   "outputs": [
    {
     "name": "stdout",
     "output_type": "stream",
     "text": [
      "[1, 4, 9, 16, 25, 36, 49]\n"
     ]
    }
   ],
   "source": [
    "numbers=[1,2,3,4,5,6,7]\n",
    "squared_nums = list(map(lambda x:x**2,numbers))\n",
    "print(squared_nums)"
   ]
  },
  {
   "cell_type": "code",
   "execution_count": null,
   "id": "8e8760b7",
   "metadata": {},
   "outputs": [],
   "source": []
  }
 ],
 "metadata": {
  "kernelspec": {
   "display_name": "Python 3",
   "language": "python",
   "name": "python3"
  },
  "language_info": {
   "codemirror_mode": {
    "name": "ipython",
    "version": 3
   },
   "file_extension": ".py",
   "mimetype": "text/x-python",
   "name": "python",
   "nbconvert_exporter": "python",
   "pygments_lexer": "ipython3",
   "version": "3.12.0"
  }
 },
 "nbformat": 4,
 "nbformat_minor": 5
}
