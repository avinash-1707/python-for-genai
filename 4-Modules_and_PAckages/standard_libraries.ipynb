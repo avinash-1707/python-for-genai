{
 "cells": [
  {
   "cell_type": "markdown",
   "id": "eae6d31f",
   "metadata": {},
   "source": [
    "### Array"
   ]
  },
  {
   "cell_type": "code",
   "execution_count": 1,
   "id": "dd0ae523",
   "metadata": {},
   "outputs": [
    {
     "data": {
      "text/plain": [
       "array('i', [2, 3, 4, 5, 5])"
      ]
     },
     "execution_count": 1,
     "metadata": {},
     "output_type": "execute_result"
    }
   ],
   "source": [
    "import array\n",
    "array.array(\"i\",[2,3,4,5,5])"
   ]
  },
  {
   "cell_type": "markdown",
   "id": "54837403",
   "metadata": {},
   "source": [
    "### Random"
   ]
  },
  {
   "cell_type": "code",
   "execution_count": 3,
   "id": "ad509412",
   "metadata": {},
   "outputs": [
    {
     "name": "stdout",
     "output_type": "stream",
     "text": [
      "4\n"
     ]
    }
   ],
   "source": [
    "import random\n",
    "print (random.randint(2,19))"
   ]
  },
  {
   "cell_type": "code",
   "execution_count": 5,
   "id": "9783fb1a",
   "metadata": {},
   "outputs": [
    {
     "name": "stdout",
     "output_type": "stream",
     "text": [
      "Apple\n"
     ]
    }
   ],
   "source": [
    "print(random.choice([\"Apple\",\"Banana\",\"Cherry\"]))"
   ]
  },
  {
   "cell_type": "markdown",
   "id": "a2e5e1e4",
   "metadata": {},
   "source": [
    "### File and Directory Access"
   ]
  },
  {
   "cell_type": "code",
   "execution_count": 6,
   "id": "d57b9765",
   "metadata": {},
   "outputs": [
    {
     "name": "stdout",
     "output_type": "stream",
     "text": [
      "c:\\Users\\ASUS Vivobook\\Desktop\\GenAI\\Python\\4-Modules_and_PAckages\n"
     ]
    }
   ],
   "source": [
    "import os\n",
    "print(os.getcwd())"
   ]
  },
  {
   "cell_type": "code",
   "execution_count": 7,
   "id": "a4d2d78a",
   "metadata": {},
   "outputs": [],
   "source": [
    "os.makedirs(\"test_dir\")"
   ]
  },
  {
   "cell_type": "markdown",
   "id": "9ef9c286",
   "metadata": {},
   "source": [
    "### Data Serialization"
   ]
  },
  {
   "cell_type": "code",
   "execution_count": 8,
   "id": "86bc7ebc",
   "metadata": {},
   "outputs": [
    {
     "name": "stdout",
     "output_type": "stream",
     "text": [
      "{\"name\": \"Avinash\", \"age\": 20, \"marks\": 92}\n",
      "<class 'str'>\n",
      "{'name': 'Avinash', 'age': 20, 'marks': 92}\n",
      "<class 'dict'>\n"
     ]
    }
   ],
   "source": [
    "import json\n",
    "\n",
    "data={'name':'Avinash','age':20,'marks':92}\n",
    "json_str = json.dumps(data)\n",
    "print(json_str)\n",
    "print(type(json_str))\n",
    "\n",
    "parsed_data = json.loads(json_str)\n",
    "print(parsed_data)\n",
    "print(type(parsed_data))"
   ]
  },
  {
   "cell_type": "markdown",
   "id": "2a3c05b9",
   "metadata": {},
   "source": [
    "### CSV"
   ]
  },
  {
   "cell_type": "code",
   "execution_count": 10,
   "id": "b0e407c0",
   "metadata": {},
   "outputs": [
    {
     "name": "stdout",
     "output_type": "stream",
     "text": [
      "['Name', 'Age']\n",
      "['Avinash', '20']\n"
     ]
    }
   ],
   "source": [
    "import csv\n",
    "\n",
    "with open('example.csv',mode=\"w\",newline=\"\") as file:\n",
    "    writer = csv.writer(file)\n",
    "    writer.writerow([\"Name\",\"Age\"])\n",
    "    writer.writerow([\"Avinash\",20])\n",
    "\n",
    "with open('example.csv',mode=\"r\") as file:\n",
    "    reader = csv.reader(file)\n",
    "    for row in reader:\n",
    "        print(row)"
   ]
  },
  {
   "cell_type": "markdown",
   "id": "fdf0bfbd",
   "metadata": {},
   "source": [
    "### Datetime"
   ]
  },
  {
   "cell_type": "code",
   "execution_count": 14,
   "id": "9b54fe66",
   "metadata": {},
   "outputs": [
    {
     "name": "stdout",
     "output_type": "stream",
     "text": [
      "2025-05-18 23:24:54.122504\n",
      "2025-05-16 23:24:54.122504\n"
     ]
    }
   ],
   "source": [
    "from datetime import timedelta,datetime\n",
    "\n",
    "print(datetime.now())\n",
    "\n",
    "yesterday = datetime.now() - timedelta(days=2)\n",
    "print(yesterday)"
   ]
  },
  {
   "cell_type": "code",
   "execution_count": null,
   "id": "dc5b9e3c",
   "metadata": {},
   "outputs": [],
   "source": []
  }
 ],
 "metadata": {
  "kernelspec": {
   "display_name": "Python 3",
   "language": "python",
   "name": "python3"
  },
  "language_info": {
   "codemirror_mode": {
    "name": "ipython",
    "version": 3
   },
   "file_extension": ".py",
   "mimetype": "text/x-python",
   "name": "python",
   "nbconvert_exporter": "python",
   "pygments_lexer": "ipython3",
   "version": "3.12.0"
  }
 },
 "nbformat": 4,
 "nbformat_minor": 5
}
