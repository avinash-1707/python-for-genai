{
 "cells": [
  {
   "cell_type": "markdown",
   "id": "e526b70b",
   "metadata": {},
   "source": [
    "###Creating a calculator"
   ]
  },
  {
   "cell_type": "code",
   "execution_count": 2,
   "id": "fd224c0f",
   "metadata": {},
   "outputs": [
    {
     "name": "stdout",
     "output_type": "stream",
     "text": [
      "10.0\n"
     ]
    }
   ],
   "source": [
    "num1 = float(input(\"Enter the first number :\"))\n",
    "num2 = float(input(\"Enter the second number : \"))\n",
    "operation = input(\"Enter the operation : +,-,*,/\")\n",
    "\n",
    "if operation==\"+\":\n",
    "    print(num1+num2)\n",
    "elif operation == \"-\":\n",
    "    print(num1-num2)\n",
    "elif operation == \"*\":\n",
    "    print(num1*num2)\n",
    "elif operation == \"/\":\n",
    "    if num2!=0:\n",
    "        print(num1/num2)\n",
    "    else:\n",
    "        print(\"Zero division error!\")\n",
    "else:\n",
    "    print(\"Enter a valid operator!\")"
   ]
  },
  {
   "cell_type": "code",
   "execution_count": null,
   "id": "dd83998f",
   "metadata": {},
   "outputs": [],
   "source": []
  }
 ],
 "metadata": {
  "kernelspec": {
   "display_name": "Python 3",
   "language": "python",
   "name": "python3"
  },
  "language_info": {
   "codemirror_mode": {
    "name": "ipython",
    "version": 3
   },
   "file_extension": ".py",
   "mimetype": "text/x-python",
   "name": "python",
   "nbconvert_exporter": "python",
   "pygments_lexer": "ipython3",
   "version": "3.12.0"
  }
 },
 "nbformat": 4,
 "nbformat_minor": 5
}
